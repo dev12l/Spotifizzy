{
 "cells": [
  {
   "cell_type": "code",
   "execution_count": 25,
   "metadata": {},
   "outputs": [],
   "source": [
    "import pandas as pd\n",
    "import numpy as np\n",
    "import requests as req\n",
    "from flask import Flask, redirect, url_for, render_template, request, session\n",
    "import datetime\n",
    "import base64"
   ]
  },
  {
   "cell_type": "code",
   "execution_count": 26,
   "metadata": {},
   "outputs": [],
   "source": [
    "with open(\"authentification.txt\", \"r\") as file:\n",
    "    client_id = file.readline()[:-1]\n",
    "    client_secret = file.readline()[:-1]\n",
    "    app_secret = file.readline()"
   ]
  },
  {
   "cell_type": "code",
   "execution_count": 27,
   "metadata": {},
   "outputs": [],
   "source": [
    "scopes = \"user-top-read\"\n",
    "return_uri = \"http://127.0.0.1:5000/redirect\"\n",
    "response_type = \"code\"\n",
    "show_dialog = \"true\"\n",
    "auth_url = (f\"https://accounts.spotify.com/authorize?response_type={response_type}&client_id={client_id}&scope={scopes}&redirect_uri={return_uri}&show_dialog={show_dialog}\")"
   ]
  },
  {
   "cell_type": "code",
   "execution_count": 28,
   "metadata": {},
   "outputs": [],
   "source": [
    "app = Flask(__name__)\n",
    "app.secret_key = app_secret"
   ]
  },
  {
   "cell_type": "code",
   "execution_count": 29,
   "metadata": {},
   "outputs": [],
   "source": [
    "@app.route('/code')\n",
    "def get_code():\n",
    "   return f\"<a href={auth_url}>Get code<a>\""
   ]
  },
  {
   "cell_type": "code",
   "execution_count": 30,
   "metadata": {},
   "outputs": [],
   "source": [
    "@app.route('/redirect')\n",
    "def redirect():\n",
    "   url = \"https://accounts.spotify.com/api/token\"\n",
    "   session[\"code\"] = request.args.get(\"code\")\n",
    "   grant_type = \"authorization_code\"\n",
    "   redirect_uri = \"http://127.0.0.1:5000/redirect\"\n",
    "   global client_id\n",
    "   global client_secret\n",
    "   data = {\"grant_type\" : grant_type,\n",
    "                    \"client_id\" : client_id,\n",
    "                    \"client_secret\" : client_secret,\n",
    "                    \"redirect_uri\" : redirect_uri,\n",
    "                    \"code\" : session[\"code\"]}\n",
    "   response = req.post(url=url, data=data)\n",
    "   print(response.json())\n",
    "   return f\"<p>hey<p>\""
   ]
  },
  {
   "cell_type": "code",
   "execution_count": 31,
   "metadata": {},
   "outputs": [],
   "source": [
    "@app.route('/home')\n",
    "def home():\n",
    "    return f\"<p>home<p>\""
   ]
  },
  {
   "cell_type": "code",
   "execution_count": 32,
   "metadata": {},
   "outputs": [
    {
     "name": "stdout",
     "output_type": "stream",
     "text": [
      " * Serving Flask app '__main__'\n",
      " * Debug mode: off\n"
     ]
    },
    {
     "name": "stderr",
     "output_type": "stream",
     "text": [
      "WARNING: This is a development server. Do not use it in a production deployment. Use a production WSGI server instead.\n",
      " * Running on http://127.0.0.1:5000\n",
      "Press CTRL+C to quit\n",
      "127.0.0.1 - - [30/May/2024 17:35:41] \"GET /redirect?code=AQB5yx5UqWB8tTDr2cIn5TW7XOYp_DFtAj-GVK3tskfXZvOMnZfWr2NcwLYO7K7FhxN_aEcXJsHfRgihtZvyJNjuCLOG888XElVuGXhBSXs3qOno36bfqOwd2CzCP9e73cjoKVsJRnw_O7T00A7o6VLy0GNXH9S9H4KTSS7E6ckIR1YRA2PDvHLjM-ACsyHL8w HTTP/1.1\" 200 -\n",
      "127.0.0.1 - - [30/May/2024 17:35:41] \"GET /favicon.ico HTTP/1.1\" 404 -\n"
     ]
    },
    {
     "name": "stdout",
     "output_type": "stream",
     "text": [
      "{'error': 'invalid_grant', 'error_description': 'Invalid redirect URI'}\n"
     ]
    },
    {
     "name": "stderr",
     "output_type": "stream",
     "text": [
      "127.0.0.1 - - [30/May/2024 17:35:44] \"GET /code HTTP/1.1\" 200 -\n",
      "127.0.0.1 - - [30/May/2024 17:35:47] \"GET /redirect?code=AQDdqs3tNz6KrwoHegG1-7fiWUt8v3pCdFOvcxo6cLNaqk278HReSlRdbrl4NMf8iT9RPLhucMGiIqv-dsb77mWhcG0vuVmHqoU1te1x3oBWuCDFwqcB4IvFSS2mlEmRIDgREmJRmxexuwg9us6_HdHl5SvRTssIcseJAMY0C3TzvsopXL9osEK-7wd3c4lVlg HTTP/1.1\" 200 -\n"
     ]
    },
    {
     "name": "stdout",
     "output_type": "stream",
     "text": [
      "{'error': 'invalid_grant', 'error_description': 'Invalid redirect URI'}\n"
     ]
    }
   ],
   "source": [
    "app.run()"
   ]
  }
 ],
 "metadata": {
  "kernelspec": {
   "display_name": "Python 3",
   "language": "python",
   "name": "python3"
  },
  "language_info": {
   "codemirror_mode": {
    "name": "ipython",
    "version": 3
   },
   "file_extension": ".py",
   "mimetype": "text/x-python",
   "name": "python",
   "nbconvert_exporter": "python",
   "pygments_lexer": "ipython3",
   "version": "3.11.7"
  }
 },
 "nbformat": 4,
 "nbformat_minor": 2
}
