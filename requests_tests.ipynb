{
 "cells": [
  {
   "cell_type": "code",
   "execution_count": 72,
   "metadata": {},
   "outputs": [],
   "source": [
    "import pandas as pd\n",
    "import numpy as np\n",
    "import requests as req\n",
    "from flask import Flask, redirect, url_for, render_template, request, session\n",
    "import datetime\n",
    "import base64"
   ]
  },
  {
   "cell_type": "code",
   "execution_count": 73,
   "metadata": {},
   "outputs": [],
   "source": [
    "with open(\"authentification.txt\", \"r\") as file:\n",
    "    client_id = file.readline()[:-1]\n",
    "    client_secret = file.readline()\n"
   ]
  },
  {
   "cell_type": "code",
   "execution_count": 74,
   "metadata": {},
   "outputs": [],
   "source": [
    "scopes = \"user-top-read\"\n",
    "return_uri = \"http://127.0.0.1:5000/hello\"\n",
    "response_type = \"code\"\n",
    "show_dialog = \"true\"\n",
    "auth_url = (f\"https://accounts.spotify.com/authorize?response_type={response_type}&client_id={client_id}&scope={scopes}&redirect_uri={return_uri}&show_dialog={show_dialog}\")"
   ]
  },
  {
   "cell_type": "code",
   "execution_count": 75,
   "metadata": {},
   "outputs": [],
   "source": [
    "app = Flask(__name__)"
   ]
  },
  {
   "cell_type": "code",
   "execution_count": 76,
   "metadata": {},
   "outputs": [],
   "source": [
    "@app.route('/hello')\n",
    "def hello_world():\n",
    "   return f\"<a href={auth_url}>Get token<a>\""
   ]
  },
  {
   "cell_type": "code",
   "execution_count": 77,
   "metadata": {},
   "outputs": [
    {
     "name": "stdout",
     "output_type": "stream",
     "text": [
      " * Serving Flask app '__main__'\n",
      " * Debug mode: off\n"
     ]
    },
    {
     "name": "stderr",
     "output_type": "stream",
     "text": [
      "WARNING: This is a development server. Do not use it in a production deployment. Use a production WSGI server instead.\n",
      " * Running on http://127.0.0.1:5000\n",
      "Press CTRL+C to quit\n",
      "127.0.0.1 - - [27/May/2024 12:28:05] \"GET / HTTP/1.1\" 404 -\n",
      "127.0.0.1 - - [27/May/2024 12:28:12] \"GET /hello HTTP/1.1\" 200 -\n",
      "127.0.0.1 - - [27/May/2024 12:28:18] \"GET /hello?code=AQBL4MasCqdz8mvxpbCchcKkoq57btR8mMLyxnKon_WSMNTp48b4Oc9_mrYsSDpVq4JqKNY-RYBa1pC92zIAWRzdu-XfpdIj1H41mVTraD3W4wtZ1qArl38gKCK6SDCVEfZSElOSdsLsG2NQSCoJKKhzuDpjbgAoWUBLP2meANTEomncv28zoKa75fWjLw HTTP/1.1\" 200 -\n"
     ]
    }
   ],
   "source": [
    "app.run()"
   ]
  }
 ],
 "metadata": {
  "kernelspec": {
   "display_name": "Python 3",
   "language": "python",
   "name": "python3"
  },
  "language_info": {
   "codemirror_mode": {
    "name": "ipython",
    "version": 3
   },
   "file_extension": ".py",
   "mimetype": "text/x-python",
   "name": "python",
   "nbconvert_exporter": "python",
   "pygments_lexer": "ipython3",
   "version": "3.11.7"
  }
 },
 "nbformat": 4,
 "nbformat_minor": 2
}
